{
 "cells": [
  {
   "cell_type": "code",
   "execution_count": 1,
   "metadata": {},
   "outputs": [],
   "source": [
    "import numpy as np\n",
    "import itertools\n",
    "%matplotlib inline\n",
    "import matplotlib.pyplot as plt\n",
    "from scipy.spatial.transform import Rotation as R\n",
    "from IPython.display import HTML\n",
    "from matplotlib import animation\n",
    "from matplotlib.patches import Polygon\n",
    "import cv2"
   ]
  },
  {
   "cell_type": "code",
   "execution_count": 30,
   "metadata": {},
   "outputs": [],
   "source": [
    "###########################\n",
    "##### Helper Function #####\n",
    "###########################\n",
    "H, W = 128, 128\n",
    "def get_cube(center=(0, 0, 2), rotation_angles=[0., 0., 0.], with_normals=False, scale=1.):\n",
    "    ''' Returns an array containing the faces of a cube.\n",
    "\n",
    "    Args:\n",
    "    center (tuple): center of the cube\n",
    "    rotation_angles (tuple): Euler angles describing the rotation of the cube\n",
    "    with_normals (bool): whether to return the normal vectors of the faces\n",
    "    scale (float): scale of cube\n",
    "\n",
    "    '''\n",
    "    # A cube consists of 6 faces and 8 corners:\n",
    "    #   +----+\n",
    "    #  /    /|\n",
    "    # +----+ |\n",
    "    # |    | +\n",
    "    # |    |/\n",
    "    # +----+\n",
    "    # Let's first consider the unit cube. The corners are:\n",
    "    corners = np.array([(0, 0, 0), (0, 0, 1), (0, 1, 0), (0, 1, 1), (1, 0, 0), (1, 0, 1), (1, 1, 0), (1, 1, 1)])\n",
    "    # Let's now center the cube at (0, 0, 0)\n",
    "    corners = corners - np.array([0.5, 0.5, 0.5], dtype=np.float32).reshape(1, 3)\n",
    "    # Let's scale the cube\n",
    "    corners = corners * scale\n",
    "    # And we rotate the cube wrt. the input rotation angles\n",
    "    rot_mat = R.from_euler('xyz', rotation_angles, degrees=True).as_matrix()\n",
    "    corners = np.matmul(corners, rot_mat.T)\n",
    "    # Finally, we shift the cube according to the input center tuple\n",
    "    corners = corners + np.array(center, dtype=np.float32).reshape(1, 3)\n",
    "\n",
    "    # The 6 faces of the cube are then given as:\n",
    "    faces = np.array([\n",
    "    # all faces containing (0, 0, 0)\n",
    "    [corners[0], corners[1], corners[3], corners[2]],\n",
    "    [corners[0], corners[1], corners[5], corners[4]],\n",
    "    [corners[0], corners[2], corners[6], corners[4]],\n",
    "    # all faces containing (1, 1, 1)\n",
    "    [corners[-1], corners[-2], corners[-4], corners[-3]],\n",
    "    [corners[-1], corners[-2], corners[-6], corners[-5]],\n",
    "    [corners[-1], corners[-3], corners[-7], corners[-5]],\n",
    "    ])\n",
    "\n",
    "    if with_normals:\n",
    "        normals = np.array([(-1, 0, 0), (0, -1, 0), (0, 0, -1), (1, 0, 0), (0, 1, 0), (0, 0, 1)])\n",
    "        normals = np.matmul(normals, rot_mat.T)\n",
    "        return faces, normals\n",
    "    else:\n",
    "        return faces\n",
    "def get_camera_intrinsics(fx=70, fy=70, cx=W/2., cy=H/2.):\n",
    "    ''' Returns the camera intrinsics matrix.\n",
    "\n",
    "    Hint: The array should be of size 3x3 and of dtype float32 (see the assertion below)\n",
    "\n",
    "    Args:\n",
    "    fx (float): focal length in x-direction f_x\n",
    "    fy (float): focal length in y-direction f_y\n",
    "    cx (float): x component of the principal point\n",
    "    cy (float): y compontent of th principal point\n",
    "    '''\n",
    "    \n",
    "    # Insert your code here\n",
    "    K=np.array([[fx,0,cx],[0,fy,cy],[0,0,1]],dtype=np.float32)\n",
    "    assert(K.shape == (3, 3) and K.dtype == np.float32)\n",
    "    return K"
   ]
  },
  {
   "cell_type": "code",
   "execution_count": 37,
   "metadata": {},
   "outputs": [],
   "source": [
    "def get_perspective_projection(x_c, K):\n",
    "    ''' Projects the 3D point x_c to screen space and returns the 2D pixel coordinates.\n",
    "    \n",
    "    Args:\n",
    "        x_c (array): 3D point in camera space\n",
    "        K (array): camera intrinsics matrix (3x3)\n",
    "    '''\n",
    "    assert(x_c.shape == (3,) and K.shape == (3, 3))\n",
    "\n",
    "    # Insert your code here\n",
    "    x_s=np.matmul(K,x_c)\n",
    "    return x_s"
   ]
  },
  {
   "cell_type": "code",
   "execution_count": 39,
   "metadata": {},
   "outputs": [],
   "source": [
    "cube = get_cube(rotation_angles=[30, 50, 0])\n",
    "K = get_camera_intrinsics()\n",
    "s = cube.shape\n",
    "assert(s[-1] == 3)\n",
    "cube = cube.reshape(-1, 3)\n",
    "projected_cube = np.stack([get_perspective_projection(p, K) for p in cube])"
   ]
  },
  {
   "cell_type": "code",
   "execution_count": 54,
   "metadata": {},
   "outputs": [],
   "source": [
    "projected_cube = projected_cube.reshape(*s[:-1], 3)"
   ]
  },
  {
   "cell_type": "code",
   "execution_count": 56,
   "metadata": {},
   "outputs": [
    {
     "data": {
      "text/plain": [
       "array([[[-0.84461189, -0.1830127 ,  1.94399012],\n",
       "        [-0.18119794, -0.6830127 ,  2.50066052],\n",
       "        [ 0.20182428,  0.1830127 ,  2.82205432],\n",
       "        [-0.46158967,  0.6830127 ,  2.26538392]],\n",
       "\n",
       "       [[-0.84461189, -0.1830127 ,  1.94399012],\n",
       "        [-0.18119794, -0.6830127 ,  2.50066052],\n",
       "        [ 0.46158967, -0.6830127 ,  1.73461608],\n",
       "        [-0.20182428, -0.1830127 ,  1.17794568]],\n",
       "\n",
       "       [[-0.84461189, -0.1830127 ,  1.94399012],\n",
       "        [-0.46158967,  0.6830127 ,  2.26538392],\n",
       "        [ 0.18119794,  0.6830127 ,  1.49933948],\n",
       "        [-0.20182428, -0.1830127 ,  1.17794568]],\n",
       "\n",
       "       [[ 0.84461189,  0.1830127 ,  2.05600988],\n",
       "        [ 0.18119794,  0.6830127 ,  1.49933948],\n",
       "        [-0.20182428, -0.1830127 ,  1.17794568],\n",
       "        [ 0.46158967, -0.6830127 ,  1.73461608]],\n",
       "\n",
       "       [[ 0.84461189,  0.1830127 ,  2.05600988],\n",
       "        [ 0.18119794,  0.6830127 ,  1.49933948],\n",
       "        [-0.46158967,  0.6830127 ,  2.26538392],\n",
       "        [ 0.20182428,  0.1830127 ,  2.82205432]],\n",
       "\n",
       "       [[ 0.84461189,  0.1830127 ,  2.05600988],\n",
       "        [ 0.46158967, -0.6830127 ,  1.73461608],\n",
       "        [-0.18119794, -0.6830127 ,  2.50066052],\n",
       "        [ 0.20182428,  0.1830127 ,  2.82205432]]])"
      ]
     },
     "execution_count": 56,
     "metadata": {},
     "output_type": "execute_result"
    }
   ],
   "source": [
    "get_cube(rotation_angles=[30, 50, 0])"
   ]
  }
 ],
 "metadata": {
  "kernelspec": {
   "display_name": "lecturecv",
   "language": "python",
   "name": "python3"
  },
  "language_info": {
   "codemirror_mode": {
    "name": "ipython",
    "version": 3
   },
   "file_extension": ".py",
   "mimetype": "text/x-python",
   "name": "python",
   "nbconvert_exporter": "python",
   "pygments_lexer": "ipython3",
   "version": "3.8.8"
  },
  "orig_nbformat": 4
 },
 "nbformat": 4,
 "nbformat_minor": 2
}
